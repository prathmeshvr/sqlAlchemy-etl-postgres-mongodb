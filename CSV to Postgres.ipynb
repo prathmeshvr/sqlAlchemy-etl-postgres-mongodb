{
 "cells": [
  {
   "cell_type": "code",
   "execution_count": 34,
   "id": "9fcc6b90",
   "metadata": {},
   "outputs": [],
   "source": [
    "from sqlalchemy import create_engine\n",
    "from sqlalchemy import Table, Column, String, MetaData,Text,BigInteger,Integer,Float\n",
    "import pandas as pd\n",
    "import psycopg2"
   ]
  },
  {
   "cell_type": "code",
   "execution_count": 35,
   "id": "19d51fab",
   "metadata": {},
   "outputs": [],
   "source": [
    "param_dic = {\n",
    "    \"host\"      : \"192.168.0.103\",\n",
    "    \"database\"  : \"dem\",\n",
    "    \"user\"      : \"postgres\",\n",
    "    \"password\"  : \"example\"\n",
    "}"
   ]
  },
  {
   "cell_type": "code",
   "execution_count": 36,
   "id": "fd27feb4",
   "metadata": {},
   "outputs": [],
   "source": [
    "connect = \"postgresql+psycopg2://%s:%s@%s:5432/%s\" % (\n",
    "    param_dic['user'],\n",
    "    param_dic['password'],\n",
    "    param_dic['host'],\n",
    "    param_dic['database']\n",
    ")"
   ]
  },
  {
   "cell_type": "code",
   "execution_count": 37,
   "id": "169b9c02",
   "metadata": {},
   "outputs": [],
   "source": [
    "engine = create_engine(connect,echo=False)"
   ]
  },
  {
   "cell_type": "code",
   "execution_count": 38,
   "id": "bacd4678",
   "metadata": {},
   "outputs": [],
   "source": [
    "df = pd.read_csv('dem.csv')"
   ]
  },
  {
   "cell_type": "code",
   "execution_count": 39,
   "id": "af25b7c9",
   "metadata": {},
   "outputs": [
    {
     "data": {
      "text/html": [
       "<div>\n",
       "<style scoped>\n",
       "    .dataframe tbody tr th:only-of-type {\n",
       "        vertical-align: middle;\n",
       "    }\n",
       "\n",
       "    .dataframe tbody tr th {\n",
       "        vertical-align: top;\n",
       "    }\n",
       "\n",
       "    .dataframe thead th {\n",
       "        text-align: right;\n",
       "    }\n",
       "</style>\n",
       "<table border=\"1\" class=\"dataframe\">\n",
       "  <thead>\n",
       "    <tr style=\"text-align: right;\">\n",
       "      <th></th>\n",
       "      <th>Date</th>\n",
       "      <th>Net Asset Value</th>\n",
       "      <th>Repurchase Price</th>\n",
       "      <th>Sale Price</th>\n",
       "    </tr>\n",
       "  </thead>\n",
       "  <tbody>\n",
       "    <tr>\n",
       "      <th>0</th>\n",
       "      <td>30-08-2016</td>\n",
       "      <td>11.1403</td>\n",
       "      <td>11.1124</td>\n",
       "      <td>11.1403</td>\n",
       "    </tr>\n",
       "    <tr>\n",
       "      <th>1</th>\n",
       "      <td>31-08-2016</td>\n",
       "      <td>11.1454</td>\n",
       "      <td>11.1175</td>\n",
       "      <td>11.1454</td>\n",
       "    </tr>\n",
       "    <tr>\n",
       "      <th>2</th>\n",
       "      <td>01-09-2016</td>\n",
       "      <td>11.1413</td>\n",
       "      <td>11.1134</td>\n",
       "      <td>11.1413</td>\n",
       "    </tr>\n",
       "    <tr>\n",
       "      <th>3</th>\n",
       "      <td>02-09-2016</td>\n",
       "      <td>11.1301</td>\n",
       "      <td>11.1023</td>\n",
       "      <td>11.1301</td>\n",
       "    </tr>\n",
       "    <tr>\n",
       "      <th>4</th>\n",
       "      <td>06-09-2016</td>\n",
       "      <td>11.1481</td>\n",
       "      <td>11.1202</td>\n",
       "      <td>11.1481</td>\n",
       "    </tr>\n",
       "  </tbody>\n",
       "</table>\n",
       "</div>"
      ],
      "text/plain": [
       "         Date  Net Asset Value  Repurchase Price  Sale Price\n",
       "0  30-08-2016          11.1403           11.1124     11.1403\n",
       "1  31-08-2016          11.1454           11.1175     11.1454\n",
       "2  01-09-2016          11.1413           11.1134     11.1413\n",
       "3  02-09-2016          11.1301           11.1023     11.1301\n",
       "4  06-09-2016          11.1481           11.1202     11.1481"
      ]
     },
     "execution_count": 39,
     "metadata": {},
     "output_type": "execute_result"
    }
   ],
   "source": [
    "df.head()"
   ]
  },
  {
   "cell_type": "code",
   "execution_count": 40,
   "id": "a3f34a4b",
   "metadata": {},
   "outputs": [
    {
     "data": {
      "text/plain": [
       "Date                 0\n",
       "Net Asset Value     15\n",
       "Repurchase Price    11\n",
       "Sale Price          12\n",
       "dtype: int64"
      ]
     },
     "execution_count": 40,
     "metadata": {},
     "output_type": "execute_result"
    }
   ],
   "source": [
    "df.isna().sum()"
   ]
  },
  {
   "cell_type": "code",
   "execution_count": 41,
   "id": "40d08f71",
   "metadata": {},
   "outputs": [],
   "source": [
    "df.to_sql(\n",
    "        'dem', \n",
    "        con=engine, \n",
    "        index=False, \n",
    "        if_exists='replace'\n",
    "    )"
   ]
  },
  {
   "cell_type": "code",
   "execution_count": 42,
   "id": "c50aed0d",
   "metadata": {},
   "outputs": [
    {
     "data": {
      "text/html": [
       "<div>\n",
       "<style scoped>\n",
       "    .dataframe tbody tr th:only-of-type {\n",
       "        vertical-align: middle;\n",
       "    }\n",
       "\n",
       "    .dataframe tbody tr th {\n",
       "        vertical-align: top;\n",
       "    }\n",
       "\n",
       "    .dataframe thead th {\n",
       "        text-align: right;\n",
       "    }\n",
       "</style>\n",
       "<table border=\"1\" class=\"dataframe\">\n",
       "  <thead>\n",
       "    <tr style=\"text-align: right;\">\n",
       "      <th></th>\n",
       "      <th>Date</th>\n",
       "      <th>Net Asset Value</th>\n",
       "      <th>Repurchase Price</th>\n",
       "      <th>Sale Price</th>\n",
       "    </tr>\n",
       "  </thead>\n",
       "  <tbody>\n",
       "    <tr>\n",
       "      <th>0</th>\n",
       "      <td>30-08-2016</td>\n",
       "      <td>11.1403</td>\n",
       "      <td>11.1124</td>\n",
       "      <td>11.1403</td>\n",
       "    </tr>\n",
       "    <tr>\n",
       "      <th>1</th>\n",
       "      <td>31-08-2016</td>\n",
       "      <td>11.1454</td>\n",
       "      <td>11.1175</td>\n",
       "      <td>11.1454</td>\n",
       "    </tr>\n",
       "    <tr>\n",
       "      <th>2</th>\n",
       "      <td>01-09-2016</td>\n",
       "      <td>11.1413</td>\n",
       "      <td>11.1134</td>\n",
       "      <td>11.1413</td>\n",
       "    </tr>\n",
       "    <tr>\n",
       "      <th>3</th>\n",
       "      <td>02-09-2016</td>\n",
       "      <td>11.1301</td>\n",
       "      <td>11.1023</td>\n",
       "      <td>11.1301</td>\n",
       "    </tr>\n",
       "    <tr>\n",
       "      <th>4</th>\n",
       "      <td>06-09-2016</td>\n",
       "      <td>11.1481</td>\n",
       "      <td>11.1202</td>\n",
       "      <td>11.1481</td>\n",
       "    </tr>\n",
       "    <tr>\n",
       "      <th>...</th>\n",
       "      <td>...</td>\n",
       "      <td>...</td>\n",
       "      <td>...</td>\n",
       "      <td>...</td>\n",
       "    </tr>\n",
       "    <tr>\n",
       "      <th>253</th>\n",
       "      <td>19-09-2017</td>\n",
       "      <td>10.8483</td>\n",
       "      <td>10.8212</td>\n",
       "      <td>10.8483</td>\n",
       "    </tr>\n",
       "    <tr>\n",
       "      <th>254</th>\n",
       "      <td>20-09-2017</td>\n",
       "      <td>10.8645</td>\n",
       "      <td>10.8373</td>\n",
       "      <td>10.8645</td>\n",
       "    </tr>\n",
       "    <tr>\n",
       "      <th>255</th>\n",
       "      <td>21-09-2017</td>\n",
       "      <td>10.8048</td>\n",
       "      <td>10.7778</td>\n",
       "      <td>10.8048</td>\n",
       "    </tr>\n",
       "    <tr>\n",
       "      <th>256</th>\n",
       "      <td>22-09-2017</td>\n",
       "      <td>10.8073</td>\n",
       "      <td>10.7803</td>\n",
       "      <td>10.8073</td>\n",
       "    </tr>\n",
       "    <tr>\n",
       "      <th>257</th>\n",
       "      <td>25-09-2017</td>\n",
       "      <td>10.8393</td>\n",
       "      <td>10.8122</td>\n",
       "      <td>10.8393</td>\n",
       "    </tr>\n",
       "  </tbody>\n",
       "</table>\n",
       "<p>258 rows × 4 columns</p>\n",
       "</div>"
      ],
      "text/plain": [
       "           Date  Net Asset Value  Repurchase Price  Sale Price\n",
       "0    30-08-2016          11.1403           11.1124     11.1403\n",
       "1    31-08-2016          11.1454           11.1175     11.1454\n",
       "2    01-09-2016          11.1413           11.1134     11.1413\n",
       "3    02-09-2016          11.1301           11.1023     11.1301\n",
       "4    06-09-2016          11.1481           11.1202     11.1481\n",
       "..          ...              ...               ...         ...\n",
       "253  19-09-2017          10.8483           10.8212     10.8483\n",
       "254  20-09-2017          10.8645           10.8373     10.8645\n",
       "255  21-09-2017          10.8048           10.7778     10.8048\n",
       "256  22-09-2017          10.8073           10.7803     10.8073\n",
       "257  25-09-2017          10.8393           10.8122     10.8393\n",
       "\n",
       "[258 rows x 4 columns]"
      ]
     },
     "execution_count": 42,
     "metadata": {},
     "output_type": "execute_result"
    }
   ],
   "source": [
    "df1 = pd.read_sql_table('dem', engine)\n",
    "df1"
   ]
  }
 ],
 "metadata": {
  "kernelspec": {
   "display_name": "Python 3",
   "language": "python",
   "name": "python3"
  },
  "language_info": {
   "codemirror_mode": {
    "name": "ipython",
    "version": 3
   },
   "file_extension": ".py",
   "mimetype": "text/x-python",
   "name": "python",
   "nbconvert_exporter": "python",
   "pygments_lexer": "ipython3",
   "version": "3.7.10"
  }
 },
 "nbformat": 4,
 "nbformat_minor": 5
}
